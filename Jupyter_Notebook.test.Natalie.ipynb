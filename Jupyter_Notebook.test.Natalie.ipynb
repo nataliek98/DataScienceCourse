{
 "cells": [
  {
   "cell_type": "markdown",
   "metadata": {},
   "source": [
    "<center>\n",
    "    <img src=\"https://s3-api.us-geo.objectstorage.softlayer.net/cf-courses-data/CognitiveClass/Logos/organization_logo/organization_logo.png\" width=\"300\" alt=\"cognitiveclass.ai logo\"  />\n",
    "</center>\n"
   ]
  },
  {
   "cell_type": "markdown",
   "metadata": {},
   "source": [
    "# My Jupyter Notebook on IBM Watson Studio"
   ]
  },
  {
   "cell_type": "markdown",
   "metadata": {
    "tags": []
   },
   "source": [
    "**Natalie**\n",
    "---\n",
    "Data Analyst\n"
   ]
  },
  {
   "cell_type": "markdown",
   "metadata": {},
   "source": [
    "*I am interested in data science because I love finding answers and solving riddles. Another reason would be that you can improve real life problems with the right questions, methods and found insights which is very motivating.*"
   ]
  },
  {
   "cell_type": "markdown",
   "metadata": {},
   "source": [
    "### In Cell 5, I demonstrade a basic calculation."
   ]
  },
  {
   "cell_type": "code",
   "execution_count": 2,
   "metadata": {},
   "outputs": [
    {
     "data": {
      "text/plain": [
       "3"
      ]
     },
     "execution_count": 2,
     "metadata": {},
     "output_type": "execute_result"
    }
   ],
   "source": [
    "5-2"
   ]
  },
  {
   "cell_type": "markdown",
   "metadata": {},
   "source": [
    "| Country | Popular food |\n",
    "| ------ | ------ |\n",
    "| 1. Italy | <a href=\"https://www.google.com/imgres?imgurl=https%3A%2F%2Fassets.epicurious.com%2Fphotos%2F55f72d733c346243461d496e%2F1%3A1%2Fw_2560%252Cc_limit%2F09112015_15minute_pastasauce_tomato.jpg&imgrefurl=https%3A%2F%2Fwww.epicurious.com%2Frecipes%2Ffood%2Fviews%2Fpasta-with-15-minute-burst-cherry-tomato-sauce-56390060&tbnid=AlsCrH5Uhar6CM&vet=12ahUKEwj7wpm-6pH7AhWImicCHWINB1EQMygFegUIARCSAg..i&docid=w_PZk2q3LXRcoM&w=2514&h=2514&q=pasta%20images&client=firefox-b-d&ved=2ahUKEwj7wpm-6pH7AhWImicCHWINB1EQMygFegUIARCSAg\">Pasta</a> |\n",
    "| 2. Spain | <a href=\"https://www.google.com/imgres?imgurl=https%3A%2F%2Fassets.epicurious.com%2Fphotos%2F5764583142e4a5ed66d1df6c%2Fmaster%2Fpass%2Fseafood-paella.jpg&imgrefurl=https%3A%2F%2Fwww.epicurious.com%2Frecipes%2Ffood%2Fviews%2Fseafood-paella-366249&tbnid=a-NsF_-4sclIhM&vet=12ahUKEwjNhqGo6pH7AhUSixoKHVbIA9oQMygCegUIARCTAg..i&docid=sQik9dlBuhV3qM&w=1000&h=662&q=Paella%20image&client=firefox-b-d&ved=2ahUKEwjNhqGo6pH7AhUSixoKHVbIA9oQMygCegUIARCTAg\">Paella</a> |\n",
    "| 3. France | <a href=\"https://www.google.com/imgres?imgurl=https%3A%2F%2Fi1.wp.com%2Fwww.ilovecooking.ie%2Fwp-content%2Fuploads%2F2020%2F01%2Frsz_patrick_baguettes_-final_online_hr-7344_1-scaled.jpg%3Ffit%3D1024%252C682%26ssl%3D1&imgrefurl=https%3A%2F%2Fwww.ilovecooking.ie%2Frecipe-items%2Fhomemade-baguette%2F&tbnid=xHbEtM3x7ZUhpM&vet=12ahUKEwiA2cHI6pH7AhWdVaQEHVchBoIQMygHegUIARCWAg..i&docid=BlbU5diahuKNyM&w=1024&h=682&q=baguette%20images&client=firefox-b-d&ved=2ahUKEwiA2cHI6pH7AhWdVaQEHVchBoIQMygHegUIARCWAg\">Baguette</a> |"
   ]
  }
 ],
 "metadata": {
  "kernelspec": {
   "display_name": "Python",
   "language": "python",
   "name": "conda-env-python-py"
  },
  "language_info": {
   "codemirror_mode": {
    "name": "ipython",
    "version": 3
   },
   "file_extension": ".py",
   "mimetype": "text/x-python",
   "name": "python",
   "nbconvert_exporter": "python",
   "pygments_lexer": "ipython3",
   "version": "3.7.12"
  }
 },
 "nbformat": 4,
 "nbformat_minor": 4
}
